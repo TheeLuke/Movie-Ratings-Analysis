{
 "cells": [
  {
   "cell_type": "code",
   "execution_count": 12,
   "id": "2115d5e3-7ff8-4cb8-9baa-b6a4b532f05f",
   "metadata": {},
   "outputs": [],
   "source": [
    "# imports\n",
    "import pandas as pd\n",
    "import numpy as np\n",
    "import datetime\n",
    "import re"
   ]
  },
  {
   "cell_type": "markdown",
   "id": "ffc209d5-236b-43fc-8cfb-162919be46dc",
   "metadata": {},
   "source": [
    "### Load data"
   ]
  },
  {
   "cell_type": "code",
   "execution_count": 6,
   "id": "5782eaed-a487-4daa-9179-68858a52d432",
   "metadata": {},
   "outputs": [
    {
     "name": "stdout",
     "output_type": "stream",
     "text": [
      "Loading data...\n",
      "Data loaded successfully.\n"
     ]
    }
   ],
   "source": [
    "RATINGS_FILE = 'ml-latest-small/ratings.csv'\n",
    "TAGS_FILE = 'ml-latest-small/tags.csv'\n",
    "MOVIES_FILE = 'ml-latest-small/movies.csv'\n",
    "\n",
    "#### Load Data\n",
    "print(\"Loading data...\")\n",
    "try:\n",
    "    df_ratings = pd.read_csv(RATINGS_FILE)\n",
    "    df_tags = pd.read_csv(TAGS_FILE)\n",
    "    df_movies = pd.read_csv(MOVIES_FILE)\n",
    "    print(\"Data loaded successfully.\")\n",
    "except FileNotFoundError as e:\n",
    "    print(f\"Error loading files: {e}\")\n",
    "    print(\"Please ensure the file paths in the script are correct.\")\n",
    "    exit() # Exit if files aren't found\n",
    "except Exception as e:\n",
    "    print(f\"An error occurred during file loading: {e}\")"
   ]
  },
  {
   "cell_type": "markdown",
   "id": "6e3937c9-1f73-44b7-8143-00a7956ab0cf",
   "metadata": {},
   "source": [
    "### Timestamps"
   ]
  },
  {
   "cell_type": "code",
   "execution_count": 7,
   "id": "802147f8-5a5a-4f94-b34c-c39eda438b62",
   "metadata": {},
   "outputs": [
    {
     "name": "stdout",
     "output_type": "stream",
     "text": [
      "\n",
      "--- 1. Timestamps (ratings.csv, tags.csv) ---\n",
      "Checking Timestamps in ratings.csv:\n",
      "  Data type: int64\n",
      "  Min timestamp: 828124615 -> 1996-03-29 18:36:55\n",
      "  Max timestamp: 1537799250 -> 2018-09-24 14:27:30\n",
      "\n",
      "Checking Timestamps in tags.csv:\n",
      "  Data type: int64\n",
      "  Min timestamp: 1137179352 -> 2006-01-13 19:09:12\n",
      "  Max timestamp: 1537098603 -> 2018-09-16 11:50:03\n",
      "  Check result: Timestamps are integers (Unix epoch time). Format looks consistent.\n"
     ]
    }
   ],
   "source": [
    "print(\"\\n--- 1. Timestamps (ratings.csv, tags.csv) ---\")\n",
    "# --- Check ---\n",
    "print(\"Checking Timestamps in ratings.csv:\")\n",
    "print(f\"  Data type: {df_ratings['timestamp'].dtype}\")\n",
    "min_ts_rating = df_ratings['timestamp'].min()\n",
    "max_ts_rating = df_ratings['timestamp'].max()\n",
    "print(f\"  Min timestamp: {min_ts_rating} -> {datetime.datetime.utcfromtimestamp(min_ts_rating)}\")\n",
    "print(f\"  Max timestamp: {max_ts_rating} -> {datetime.datetime.utcfromtimestamp(max_ts_rating)}\")\n",
    "\n",
    "print(\"\\nChecking Timestamps in tags.csv:\")\n",
    "print(f\"  Data type: {df_tags['timestamp'].dtype}\")\n",
    "min_ts_tag = df_tags['timestamp'].min()\n",
    "max_ts_tag = df_tags['timestamp'].max()\n",
    "print(f\"  Min timestamp: {min_ts_tag} -> {datetime.datetime.utcfromtimestamp(min_ts_tag)}\")\n",
    "print(f\"  Max timestamp: {max_ts_tag} -> {datetime.datetime.utcfromtimestamp(max_ts_tag)}\")\n",
    "print(\"  Check result: Timestamps are integers (Unix epoch time). Format looks consistent.\")"
   ]
  },
  {
   "cell_type": "markdown",
   "id": "c1a73ff5-8c0d-4dcd-a8ad-7578c77ed8b3",
   "metadata": {},
   "source": [
    "### Ratings"
   ]
  },
  {
   "cell_type": "code",
   "execution_count": 8,
   "id": "0fb6fd83-1fc6-4842-94c8-6c0f60eb0ffe",
   "metadata": {},
   "outputs": [
    {
     "name": "stdout",
     "output_type": "stream",
     "text": [
      "\n",
      "--- 2. Ratings Scale (ratings.csv) ---\n",
      "Checking Ratings Scale:\n",
      "  Unique rating values: [0.5, 1.0, 1.5, 2.0, 2.5, 3.0, 3.5, 4.0, 4.5, 5.0]\n",
      "  Min rating: 0.5\n",
      "  Max rating: 5.0\n",
      "  Number of ratings outside expected range (0.5-5.0): 0\n",
      "  Check result: Ratings appear to be within the documented 0.5-5.0 range with 0.5 increments.\n"
     ]
    }
   ],
   "source": [
    "print(\"\\n--- 2. Ratings Scale (ratings.csv) ---\")\n",
    "# --- Check ---\n",
    "print(\"Checking Ratings Scale:\")\n",
    "unique_ratings = sorted(df_ratings['rating'].unique())\n",
    "min_rating = df_ratings['rating'].min()\n",
    "max_rating = df_ratings['rating'].max()\n",
    "print(f\"  Unique rating values: {unique_ratings}\")\n",
    "print(f\"  Min rating: {min_rating}\")\n",
    "print(f\"  Max rating: {max_rating}\")\n",
    "# Check for ratings outside the expected 0.5-5.0 range\n",
    "invalid_ratings = df_ratings[ (df_ratings['rating'] < 0.5) | (df_ratings['rating'] > 5.0) ]\n",
    "print(f\"  Number of ratings outside expected range (0.5-5.0): {len(invalid_ratings)}\")\n",
    "print(\"  Check result: Ratings appear to be within the documented 0.5-5.0 range with 0.5 increments.\")\n"
   ]
  },
  {
   "cell_type": "markdown",
   "id": "d3860334-0343-436a-bd7e-2f161602517c",
   "metadata": {},
   "source": [
    "### Tags"
   ]
  },
  {
   "cell_type": "code",
   "execution_count": 9,
   "id": "84d2e9b6-b55d-4282-8f33-40a605bdd466",
   "metadata": {},
   "outputs": [
    {
     "name": "stdout",
     "output_type": "stream",
     "text": [
      "\n",
      "--- 3. Tags (tags.csv) ---\n",
      "Checking Tags:\n",
      "  Number of NaN/Null tags: 0\n",
      "  Example tags (first 5 non-null):\n",
      "['funny', 'Highly quotable', 'will ferrell', 'Boxing story', 'MMA']\n",
      "  Number of tags with leading/trailing whitespace: 0\n",
      "  Unique tags (case sensitive): 1589\n",
      "  Unique tags (case insensitive): 1475\n",
      "  Check result: Case differences detected. Whitespace or NaN may exist.\n"
     ]
    }
   ],
   "source": [
    "print(\"\\n--- 3. Tags (tags.csv) ---\")\n",
    "# --- Check ---\n",
    "print(\"Checking Tags:\")\n",
    "nan_tags_count = df_tags['tag'].isnull().sum()\n",
    "print(f\"  Number of NaN/Null tags: {nan_tags_count}\")\n",
    "print(\"  Example tags (first 5 non-null):\")\n",
    "print(df_tags['tag'].dropna().head().tolist())\n",
    "# Check for leading/trailing whitespace\n",
    "tags_with_whitespace = df_tags[df_tags['tag'].ne(df_tags['tag'].str.strip()) & df_tags['tag'].notnull()]\n",
    "print(f\"  Number of tags with leading/trailing whitespace: {len(tags_with_whitespace)}\")\n",
    "# Check case differences (example: 'funny' vs 'Funny')\n",
    "if nan_tags_count == 0: # Avoid error if all tags are NaN\n",
    "    tag_counts_case_sensitive = df_tags['tag'].value_counts()\n",
    "    tag_counts_case_insensitive = df_tags['tag'].str.lower().value_counts()\n",
    "    print(f\"  Unique tags (case sensitive): {len(tag_counts_case_sensitive)}\")\n",
    "    print(f\"  Unique tags (case insensitive): {len(tag_counts_case_insensitive)}\")\n",
    "    if len(tag_counts_case_sensitive) != len(tag_counts_case_insensitive):\n",
    "        print(\"  Check result: Case differences detected. Whitespace or NaN may exist.\")\n",
    "    else:\n",
    "         print(\"  Check result: Case seems consistent, but check whitespace/NaN.\")\n",
    "else:\n",
    "     print(\"  Check result: NaN tags found.\")"
   ]
  },
  {
   "cell_type": "code",
   "execution_count": 16,
   "id": "2013fbbe-0afc-4803-b6f8-438b85ed3a3b",
   "metadata": {},
   "outputs": [
    {
     "name": "stdout",
     "output_type": "stream",
     "text": [
      "  Converted tags to lowercase and stripped whitespace.\n",
      "  Example cleaned tags (first 5):\n",
      "[['funny', 'funny'], ['Highly quotable', 'highly quotable'], ['will ferrell', 'will ferrell'], ['Boxing story', 'boxing story'], ['MMA', 'mma']]\n"
     ]
    }
   ],
   "source": [
    "# Convert to lowercase and strip leading/trailing whitespace\n",
    "#\n",
    "#\n",
    "#\n",
    "# Important step to apply when using tags.csv\n",
    "#\n",
    "#\n",
    "#\n",
    "df_tags['tag_cleaned'] = df_tags['tag'].str.lower().str.strip()\n",
    "print(\"  Converted tags to lowercase and stripped whitespace.\")\n",
    "print(\"  Example cleaned tags (first 5):\")\n",
    "print(df_tags[['tag', 'tag_cleaned']].head().values.tolist())"
   ]
  },
  {
   "cell_type": "markdown",
   "id": "47faa04a-f851-4684-bee8-f22be66586fa",
   "metadata": {},
   "source": [
    "### Genres"
   ]
  },
  {
   "cell_type": "code",
   "execution_count": 10,
   "id": "a3f00e79-80d9-4379-8318-e70108f49acd",
   "metadata": {},
   "outputs": [
    {
     "name": "stdout",
     "output_type": "stream",
     "text": [
      "\n",
      "--- 4. Genres (movies.csv) ---\n",
      "Checking Genres:\n",
      "  Number of NaN/Null genres: 0\n",
      "  Unique genre strings (first 10): ['Adventure|Animation|Children|Comedy|Fantasy'\n",
      " 'Adventure|Children|Fantasy' 'Comedy|Romance' 'Comedy|Drama|Romance'\n",
      " 'Comedy' 'Action|Crime|Thriller' 'Adventure|Children' 'Action'\n",
      " 'Action|Adventure|Thriller' 'Comedy|Horror']\n",
      "  Count of movies with '(no genres listed)': 34\n",
      "  Example genre string split:\n",
      "    Original: 'Adventure|Animation|Children|Comedy|Fantasy' -> Split: ['Adventure', 'Animation', 'Children', 'Comedy', 'Fantasy']\n",
      "  Check result: Genres are pipe-separated strings. Special value '(no genres listed)' exists.\n"
     ]
    }
   ],
   "source": [
    "print(\"\\n--- 4. Genres (movies.csv) ---\")\n",
    "# --- Check ---\n",
    "print(\"Checking Genres:\")\n",
    "nan_genres_count = df_movies['genres'].isnull().sum()\n",
    "print(f\"  Number of NaN/Null genres: {nan_genres_count}\")\n",
    "print(f\"  Unique genre strings (first 10): {df_movies['genres'].unique()[:10]}\")\n",
    "no_genres_listed_count = df_movies[df_movies['genres'] == '(no genres listed)'].shape[0]\n",
    "print(f\"  Count of movies with '(no genres listed)': {no_genres_listed_count}\")\n",
    "print(\"  Example genre string split:\")\n",
    "example_genre_string = df_movies['genres'].iloc[0]\n",
    "print(f\"    Original: '{example_genre_string}' -> Split: {example_genre_string.split('|')}\")\n",
    "print(\"  Check result: Genres are pipe-separated strings. Special value '(no genres listed)' exists.\")"
   ]
  },
  {
   "cell_type": "markdown",
   "id": "a1bbc52a-983c-40c9-9ea4-af80245dde23",
   "metadata": {},
   "source": [
    "### Titles"
   ]
  },
  {
   "cell_type": "code",
   "execution_count": 13,
   "id": "bc79e151-a4bb-42d8-8db6-72579541451d",
   "metadata": {},
   "outputs": [
    {
     "name": "stdout",
     "output_type": "stream",
     "text": [
      "\n",
      "--- 5. Titles (movies.csv) ---\n",
      "Checking Titles:\n",
      "  Number of NaN/Null titles: 0\n",
      "  Number of titles potentially not ending in ' (YYYY)': 24\n",
      "  Examples of potentially malformed titles (first 5):\n",
      "['From Dusk Till Dawn 2: Texas Blood Money (1999) ', 'Babylon 5', 'Justice League: The New Frontier (2008) ', 'Assembly (Ji jie hao) (2007) ', '96 Minutes (2011) ']\n",
      "  Check result: Most titles seem to follow the format, but inconsistencies might exist (as per README).\n"
     ]
    }
   ],
   "source": [
    "print(\"\\n--- 5. Titles (movies.csv) ---\")\n",
    "# --- Check ---\n",
    "print(\"Checking Titles:\")\n",
    "nan_titles_count = df_movies['title'].isnull().sum()\n",
    "print(f\"  Number of NaN/Null titles: {nan_titles_count}\")\n",
    "# Regex to roughly check \"Title (YYYY)\" format. Allows variations.\n",
    "# This regex looks for: Anything, space, literal '(', 4 digits, literal ')', end of string.\n",
    "title_year_pattern = re.compile(r'.+ \\(\\d{4}\\)$')\n",
    "malformed_titles = df_movies[~df_movies['title'].str.match(title_year_pattern, na=False)]\n",
    "print(f\"  Number of titles potentially not ending in ' (YYYY)': {len(malformed_titles)}\")\n",
    "if not malformed_titles.empty:\n",
    "    print(\"  Examples of potentially malformed titles (first 5):\")\n",
    "    print(malformed_titles['title'].head().tolist())\n",
    "print(\"  Check result: Most titles seem to follow the format, but inconsistencies might exist (as per README).\")"
   ]
  },
  {
   "cell_type": "markdown",
   "id": "1520fd9f-4f61-4c5c-9248-ebf44d1298a7",
   "metadata": {},
   "source": [
    "#### General"
   ]
  },
  {
   "cell_type": "code",
   "execution_count": 14,
   "id": "582f1a60-b74d-46b6-9690-fedd9e0993da",
   "metadata": {},
   "outputs": [
    {
     "name": "stdout",
     "output_type": "stream",
     "text": [
      "\n",
      "--- 6. General Missing Values & Types ---\n",
      "Checking general info and missing values:\n",
      "\n",
      "df_ratings info:\n",
      "<class 'pandas.core.frame.DataFrame'>\n",
      "RangeIndex: 100836 entries, 0 to 100835\n",
      "Data columns (total 4 columns):\n",
      " #   Column     Non-Null Count   Dtype  \n",
      "---  ------     --------------   -----  \n",
      " 0   userId     100836 non-null  int64  \n",
      " 1   movieId    100836 non-null  int64  \n",
      " 2   rating     100836 non-null  float64\n",
      " 3   timestamp  100836 non-null  int64  \n",
      "dtypes: float64(1), int64(3)\n",
      "memory usage: 3.1 MB\n",
      "\n",
      "df_ratings missing values:\n",
      "userId       0\n",
      "movieId      0\n",
      "rating       0\n",
      "timestamp    0\n",
      "dtype: int64\n",
      "\n",
      "df_tags info:\n",
      "<class 'pandas.core.frame.DataFrame'>\n",
      "RangeIndex: 3683 entries, 0 to 3682\n",
      "Data columns (total 4 columns):\n",
      " #   Column     Non-Null Count  Dtype \n",
      "---  ------     --------------  ----- \n",
      " 0   userId     3683 non-null   int64 \n",
      " 1   movieId    3683 non-null   int64 \n",
      " 2   tag        3683 non-null   object\n",
      " 3   timestamp  3683 non-null   int64 \n",
      "dtypes: int64(3), object(1)\n",
      "memory usage: 115.2+ KB\n",
      "\n",
      "df_tags missing values:\n",
      "userId       0\n",
      "movieId      0\n",
      "tag          0\n",
      "timestamp    0\n",
      "dtype: int64\n",
      "\n",
      "df_movies info:\n",
      "<class 'pandas.core.frame.DataFrame'>\n",
      "RangeIndex: 9742 entries, 0 to 9741\n",
      "Data columns (total 3 columns):\n",
      " #   Column   Non-Null Count  Dtype \n",
      "---  ------   --------------  ----- \n",
      " 0   movieId  9742 non-null   int64 \n",
      " 1   title    9742 non-null   object\n",
      " 2   genres   9742 non-null   object\n",
      "dtypes: int64(1), object(2)\n",
      "memory usage: 228.5+ KB\n",
      "\n",
      "df_movies missing values:\n",
      "movieId    0\n",
      "title      0\n",
      "genres     0\n",
      "dtype: int64\n"
     ]
    }
   ],
   "source": [
    "print(\"\\n--- 6. General Missing Values & Types ---\")\n",
    "# --- Check ---\n",
    "print(\"Checking general info and missing values:\")\n",
    "print(\"\\ndf_ratings info:\")\n",
    "df_ratings.info()\n",
    "print(\"\\ndf_ratings missing values:\")\n",
    "print(df_ratings.isnull().sum())\n",
    "\n",
    "print(\"\\ndf_tags info:\")\n",
    "df_tags.info()\n",
    "print(\"\\ndf_tags missing values:\")\n",
    "print(df_tags.isnull().sum()) # We saw 'tag' can have NaNs\n",
    "\n",
    "print(\"\\ndf_movies info:\")\n",
    "df_movies.info()\n",
    "print(\"\\ndf_movies missing values:\")\n",
    "print(df_movies.isnull().sum()) # We saw 'year' extraction can yield NaNs"
   ]
  },
  {
   "cell_type": "code",
   "execution_count": null,
   "id": "22e04f50-3c3e-4ab2-8a9e-eb89e3725af1",
   "metadata": {},
   "outputs": [],
   "source": []
  }
 ],
 "metadata": {
  "kernelspec": {
   "display_name": "Python 3 (ipykernel)",
   "language": "python",
   "name": "python3"
  },
  "language_info": {
   "codemirror_mode": {
    "name": "ipython",
    "version": 3
   },
   "file_extension": ".py",
   "mimetype": "text/x-python",
   "name": "python",
   "nbconvert_exporter": "python",
   "pygments_lexer": "ipython3",
   "version": "3.11.7"
  }
 },
 "nbformat": 4,
 "nbformat_minor": 5
}
